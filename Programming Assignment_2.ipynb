{
 "cells": [
  {
   "cell_type": "code",
   "execution_count": 1,
   "metadata": {},
   "outputs": [
    {
     "name": "stdout",
     "output_type": "stream",
     "text": [
      "Enter kilometers:  23\n",
      "Corresponding miles:   14.291533\n"
     ]
    }
   ],
   "source": [
    "#1.\tWrite a Python program to convert kilometers to miles?\n",
    "km=float(input(\"Enter kilometers:  \"))\n",
    "mi=km*0.621371\n",
    "print(\"Corresponding miles:  \",mi)"
   ]
  },
  {
   "cell_type": "code",
   "execution_count": 3,
   "metadata": {},
   "outputs": [
    {
     "name": "stdout",
     "output_type": "stream",
     "text": [
      "Enter celsius:  98.4\n",
      "Corresponding Faranheit:   209.12\n"
     ]
    }
   ],
   "source": [
    "#2.\tWrite a Python program to convert Celsius to Fahrenheit?\n",
    "c=float(input(\"Enter celsius:  \"))\n",
    "f=((9*c/5)+32)\n",
    "print(\"Corresponding Faranheit:  \",f)"
   ]
  },
  {
   "cell_type": "code",
   "execution_count": 2,
   "metadata": {},
   "outputs": [
    {
     "name": "stdout",
     "output_type": "stream",
     "text": [
      "Enter Year in YYYY format1987\n",
      "Enter Month in MM format05\n",
      "      May 1987\n",
      "Mo Tu We Th Fr Sa Su\n",
      "             1  2  3\n",
      " 4  5  6  7  8  9 10\n",
      "11 12 13 14 15 16 17\n",
      "18 19 20 21 22 23 24\n",
      "25 26 27 28 29 30 31\n",
      "\n"
     ]
    }
   ],
   "source": [
    "#3.\tWrite a Python program to display calendar?\n",
    "import calendar\n",
    "year=int((input(\"Enter Year in YYYY format\")))\n",
    "month=int(input(\"Enter Month in MM format\"))\n",
    "print(calendar.month(year,month))"
   ]
  },
  {
   "cell_type": "code",
   "execution_count": 4,
   "metadata": {},
   "outputs": [
    {
     "name": "stdout",
     "output_type": "stream",
     "text": [
      "Enter a value:  1\n",
      "Enter b value:  3\n",
      "Enter c value:  2\n",
      "It is having two outputs and they are -2.0 and -1.0\n"
     ]
    }
   ],
   "source": [
    "#4.\tWrite a Python program to solve quadratic equation?\n",
    "import math\n",
    "a=int(input(\"Enter a value:  \"))\n",
    "b=int(input(\"Enter b value:  \"))\n",
    "c=int(input(\"Enter c value:  \"))\n",
    "d=(b**2-4*a*c)\n",
    "if d<0:\n",
    "    print(\"There is no solution\")\n",
    "elif d==0:\n",
    "    eq=-b/(2*a)\n",
    "    print(\"It is having one output and it is {}\".format(eq))\n",
    "else:\n",
    "    eq1= (-b-math.sqrt(d))/(2*a)\n",
    "    eq2= (-b+math.sqrt(d))/(2*a)\n",
    "    print(\"It is having two outputs and they are {} and {}\".format(eq1,eq2))"
   ]
  },
  {
   "cell_type": "code",
   "execution_count": 1,
   "metadata": {},
   "outputs": [
    {
     "name": "stdout",
     "output_type": "stream",
     "text": [
      "Enter a value:  6\n",
      "Enter b value:  2\n",
      "Value of a after swaping is 2, Value of b after swaping is 6\n"
     ]
    }
   ],
   "source": [
    "# 5.\tWrite a Python program to solve quadratic equation?\n",
    "a=int(input(\"Enter a value:  \"))\n",
    "b=int(input(\"Enter b value:  \"))\n",
    "a=a+b\n",
    "b=a-b\n",
    "a=a-b\n",
    "print(\"Value of a after swaping is {}, Value of b after swaping is {}\".format(a,b))"
   ]
  }
 ],
 "metadata": {
  "kernelspec": {
   "display_name": "Python 3",
   "language": "python",
   "name": "python3"
  },
  "language_info": {
   "codemirror_mode": {
    "name": "ipython",
    "version": 3
   },
   "file_extension": ".py",
   "mimetype": "text/x-python",
   "name": "python",
   "nbconvert_exporter": "python",
   "pygments_lexer": "ipython3",
   "version": "3.7.4"
  }
 },
 "nbformat": 4,
 "nbformat_minor": 2
}
