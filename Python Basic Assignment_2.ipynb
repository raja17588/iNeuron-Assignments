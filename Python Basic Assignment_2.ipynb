{
 "cells": [
  {
   "cell_type": "code",
   "execution_count": null,
   "metadata": {},
   "outputs": [],
   "source": [
    "#1. What are the two values of the Boolean data type? How do you write them?\n",
    "Ans. The Boolean type has two values:\n",
    "1.\tTrue  -  T\n",
    "2.\tFalse -  F"
   ]
  },
  {
   "cell_type": "code",
   "execution_count": null,
   "metadata": {},
   "outputs": [],
   "source": [
    "#2. What are the three different types of Boolean operators?\n",
    "Ans. The three different types of Boolean Operators are:\n",
    "i.   AND\n",
    "ii.  OR\n",
    "iii. NOT"
   ]
  },
  {
   "cell_type": "code",
   "execution_count": null,
   "metadata": {},
   "outputs": [],
   "source": [
    "#3. Make a list of each Boolean operator's truth tables (i.e. every possible combination of Boolean values for the operator and what it evaluate ).\n",
    "Ans.    A truth table is a small table that allows us to list all the possible inputs, and to give the results for the logical operators\n",
    "\n",
    "a         b    a AND b\n",
    "True\tTrue\tTrue\n",
    "True \tFalse\tFalse\n",
    "False\tTrue\tFalse\n",
    "False\tFalse\tFalse\n",
    "\n",
    "a       b      a OR b\n",
    "True\tTrue\tTrue\n",
    "True \tFalse\tTrue\n",
    "False\tTrue\tTrue\n",
    "False\tFalse\tFalse\n",
    "\n",
    "a      a NOT a\n",
    "True\tFalse\n",
    "False \tTrue\n"
   ]
  },
  {
   "cell_type": "code",
   "execution_count": null,
   "metadata": {},
   "outputs": [],
   "source": [
    "#4. What are the values of the following expressions?\n",
    "Ans.  \n",
    "(5 > 4) and (3 == 5)  -  False\n",
    "not (5 > 4)           -  False\n",
    "(5 > 4) or (3 == 5)   - True\n",
    "not ((5 > 4) or (3 == 5)) - False\n",
    "(True and True) and (True == False)  - False\n",
    "(not False) or (not True)            - True\n"
   ]
  },
  {
   "cell_type": "code",
   "execution_count": null,
   "metadata": {},
   "outputs": [],
   "source": [
    "#5. What are the six comparison operators?\n",
    "Ans. The six comparison operators are:\n",
    "i.\tgreater than (>)\n",
    "ii.\tless than (<)\n",
    "iii.\tgreater than or equal to (>=)\n",
    "iv.\tless than or equal to (<=)\n",
    "v.\tequal to (==)\n",
    "vi.\tnot equal to (!=)\n"
   ]
  },
  {
   "cell_type": "code",
   "execution_count": null,
   "metadata": {},
   "outputs": [],
   "source": [
    "#6. How do you tell the difference between the equal to and assignment operators? \n",
    "Describe a condition and when you would use one.\n",
    "\n",
    "Ans.  The “=” is an assignment operator used to assign the value on the right to the variable on the left. \n",
    "The '==' operator checks whether the two given operands are equal or not. If so, it returns true. Otherwise it returns false.\n",
    "Ex. To assign a value 5 to variable x then we use x=5\n",
    "To compare the two values x=5 and y=6 we use x==y, which returns False as 5 is not equal to 6.\n"
   ]
  },
  {
   "cell_type": "code",
   "execution_count": null,
   "metadata": {},
   "outputs": [],
   "source": [
    "#7. Identify the three blocks in this code:\n",
    "spam = 0\n",
    "if spam == 10:\n",
    "print('eggs')\n",
    "if spam > 5:\n",
    "print('bacon')\n",
    "else:\n",
    "print('ham')\n",
    "print('spam')\n",
    "print('spam')\n",
    "\n",
    "Ans. The three blocks are everything inside the if statement and the lines print(‘bacon’) and print(‘ham).                                                    \n",
    "print('eggs')\n",
    "if spam > 5:\n",
    "    print('bacon')\n",
    "else:\n",
    "    print('ham')\n",
    "print('spam')"
   ]
  },
  {
   "cell_type": "code",
   "execution_count": 2,
   "metadata": {},
   "outputs": [
    {
     "name": "stdout",
     "output_type": "stream",
     "text": [
      "Enter any integer1\n",
      "Hello\n"
     ]
    }
   ],
   "source": [
    "#8. Write code that prints Hello if 1 is stored in spam, prints Howdy if 2 is stored in spam, and prints Greetings! if anything else is stored in spam.\n",
    "\n",
    "spam=int(input(\"Enter any integer\"))  \n",
    "if spam==1:\n",
    "  print(\"Hello\") \n",
    "elif spam==2:\n",
    "  print(\"Howdy\")\n",
    "else:\n",
    "  print(\"Greetings\")  \n"
   ]
  },
  {
   "cell_type": "code",
   "execution_count": null,
   "metadata": {},
   "outputs": [],
   "source": [
    "#9.If your programme is stuck in an endless loop, what keys you’ll press?\n",
    "Ans.  To exit out of infinite loops on the command line, press CTRL + C"
   ]
  },
  {
   "cell_type": "code",
   "execution_count": null,
   "metadata": {},
   "outputs": [],
   "source": [
    "#10. How can you tell the difference between break and continue?\n",
    "Ans: The main difference between break and continue is that break is used for immediate termination of loop. \n",
    "And, 'continue' terminate the current iteration and resumes the control to the next iteration of the loop\n"
   ]
  },
  {
   "cell_type": "code",
   "execution_count": null,
   "metadata": {},
   "outputs": [],
   "source": [
    "#11. In a for loop, what is the difference between range(10), range(0, 10), and range(0, 10, 1)?\n",
    "Ans.  There is no difference between range(10), range(0, 10), and range(0, 10, 1). All the three generates same result.  \n",
    "range(10) will gives the value from 0 to 10(but not include 10), range(0,10) indicate that the loop to be started from 0, \n",
    "range(0,10,1) indicates that loop should start from 0 and ends at 10 but not include 10 by an increment of 1 value every time.\n"
   ]
  },
  {
   "cell_type": "code",
   "execution_count": 7,
   "metadata": {},
   "outputs": [
    {
     "name": "stdout",
     "output_type": "stream",
     "text": [
      "1\n",
      "2\n",
      "3\n",
      "4\n",
      "5\n",
      "6\n",
      "7\n",
      "8\n",
      "9\n",
      "10\n"
     ]
    }
   ],
   "source": [
    "#12. Write a short program that prints the numbers 1 to 10 using a for loop. \n",
    "#Then write an equivalent program that prints the numbers 1 to 10 using a while loop.\n",
    "\n",
    "for i in range(1,11):\n",
    "    print(i)"
   ]
  },
  {
   "cell_type": "code",
   "execution_count": 19,
   "metadata": {},
   "outputs": [
    {
     "name": "stdout",
     "output_type": "stream",
     "text": [
      "1\n",
      "2\n",
      "3\n",
      "4\n",
      "5\n",
      "6\n",
      "7\n",
      "8\n",
      "9\n",
      "10\n"
     ]
    }
   ],
   "source": [
    "i=1\n",
    "while i<=10:\n",
    "    print(i)\n",
    "    i=i+1"
   ]
  },
  {
   "cell_type": "code",
   "execution_count": null,
   "metadata": {},
   "outputs": [],
   "source": [
    "#13. If you had a function named bacon() inside a module named spam, how would you call it after importing spam?\n",
    "Ans. This function can be called with spam.bacon()"
   ]
  }
 ],
 "metadata": {
  "kernelspec": {
   "display_name": "Python 3",
   "language": "python",
   "name": "python3"
  },
  "language_info": {
   "codemirror_mode": {
    "name": "ipython",
    "version": 3
   },
   "file_extension": ".py",
   "mimetype": "text/x-python",
   "name": "python",
   "nbconvert_exporter": "python",
   "pygments_lexer": "ipython3",
   "version": "3.7.4"
  }
 },
 "nbformat": 4,
 "nbformat_minor": 2
}
