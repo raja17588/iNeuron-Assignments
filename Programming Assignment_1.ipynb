{
 "cells": [
  {
   "cell_type": "code",
   "execution_count": 1,
   "metadata": {},
   "outputs": [
    {
     "name": "stdout",
     "output_type": "stream",
     "text": [
      "Hello Python\n"
     ]
    }
   ],
   "source": [
    "#1.\tWrite a Python program to print \"Hello Python\"?\n",
    "print(\"Hello Python\")"
   ]
  },
  {
   "cell_type": "code",
   "execution_count": 1,
   "metadata": {},
   "outputs": [
    {
     "name": "stdout",
     "output_type": "stream",
     "text": [
      "Enter a value:  21.5\n",
      "Enter b value:  65.7\n",
      "Addition of a, b is:   87.2\n",
      "Division of a, b is:   0.3272450532724505\n"
     ]
    }
   ],
   "source": [
    "#2.\tWrite a Python program to do arithmetical operations addition and division\n",
    "a=float(input(\"Enter a value:  \"))\n",
    "b=float(input(\"Enter b value:  \"))\n",
    "c=a+b\n",
    "print(\"Addition of a, b is:  \", c)\n",
    "d=a/b\n",
    "print(\"Division of a, b is:  \", d)"
   ]
  },
  {
   "cell_type": "code",
   "execution_count": 23,
   "metadata": {},
   "outputs": [
    {
     "name": "stdout",
     "output_type": "stream",
     "text": [
      "Enter first side of triangle:  11.1\n",
      "Enter second side of triangle: 14\n",
      "Enter third side of triangle: 24\n",
      "Area of the triangle is:   43.77180592287692\n"
     ]
    }
   ],
   "source": [
    "#3.\tWrite a Python program to find the area of a triangle?\n",
    "import math \n",
    "x=float(input(\"Enter first side of triangle:  \"))\n",
    "y=float(input(\"Enter second side of triangle: \"))\n",
    "z=float(input(\"Enter third side of triangle: \"))\n",
    "s=(x+y+z)/2  #Semi perimeter\n",
    "if(s<=x or s<=y or s<=z):\n",
    "    print(\"Enter correct values\")\n",
    "else:\n",
    "    a=math.sqrt(s*(s-x)*(s-y)*(s-z))\n",
    "    print(\"Area of the triangle is:  \",a)"
   ]
  },
  {
   "cell_type": "code",
   "execution_count": 21,
   "metadata": {},
   "outputs": [
    {
     "name": "stdout",
     "output_type": "stream",
     "text": [
      "Enter x value:  5\n",
      "Enter y value:  6\n",
      "Value of x after swapping is:   6\n",
      "Value of y after swapping is:   5\n"
     ]
    }
   ],
   "source": [
    "#4.\tWrite a Python program to swap two variables?\n",
    "x=int(input(\"Enter x value:  \"))\n",
    "y=int(input(\"Enter y value:  \"))\n",
    "\n",
    "z=x\n",
    "x=y\n",
    "y=z\n",
    "\n",
    "print(\"Value of x after swapping is:  \",x)\n",
    "print(\"Value of y after swapping is:  \",y)\n"
   ]
  },
  {
   "cell_type": "code",
   "execution_count": 8,
   "metadata": {},
   "outputs": [
    {
     "data": {
      "text/plain": [
       "612"
      ]
     },
     "execution_count": 8,
     "metadata": {},
     "output_type": "execute_result"
    }
   ],
   "source": [
    "#5.\tWrite a Python program to generate a random number?\n",
    "import random\n",
    "random.randint(0,1000)"
   ]
  }
 ],
 "metadata": {
  "kernelspec": {
   "display_name": "Python 3",
   "language": "python",
   "name": "python3"
  },
  "language_info": {
   "codemirror_mode": {
    "name": "ipython",
    "version": 3
   },
   "file_extension": ".py",
   "mimetype": "text/x-python",
   "name": "python",
   "nbconvert_exporter": "python",
   "pygments_lexer": "ipython3",
   "version": "3.7.4"
  }
 },
 "nbformat": 4,
 "nbformat_minor": 2
}
